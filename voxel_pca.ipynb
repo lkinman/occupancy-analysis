{
 "cells": [
  {
   "cell_type": "markdown",
   "id": "4879e2ed-19dd-4668-be5e-19342b048773",
   "metadata": {},
   "source": [
    "## Voxel PCA "
   ]
  },
  {
   "cell_type": "markdown",
   "id": "61dc6e12-973b-45fb-a345-8157b043eb93",
   "metadata": {},
   "source": [
    "Updated: Laurel Kinman, 9/29/2022"
   ]
  },
  {
   "cell_type": "markdown",
   "id": "a22cfe7b-8e10-403c-9efe-f5d493cbe100",
   "metadata": {},
   "source": [
    "#### Import necessary modules"
   ]
  },
  {
   "cell_type": "code",
   "execution_count": null,
   "id": "1b41d5fe-c763-43be-8263-9d6819a0b661",
   "metadata": {},
   "outputs": [],
   "source": [
    "import numpy as np \n",
    "import pandas as pd\n",
    "import matplotlib.pyplot as plt\n",
    "import seaborn as sns\n",
    "import os\n",
    "from sklearn.decomposition import PCA\n",
    "from cryodrgn import utils\n",
    "from cryodrgn import mrc"
   ]
  },
  {
   "cell_type": "markdown",
   "id": "92df5186-a9ae-41c0-a56b-a08f70fa8524",
   "metadata": {},
   "source": [
    "#### Read in data"
   ]
  },
  {
   "cell_type": "markdown",
   "id": "fd48670f-ef28-429b-823c-127f02eaa7d5",
   "metadata": {},
   "source": [
    "Data consits of a mask corresponding to the region of interest (a .mrc file), and the relevant volumes to be compared. If volumes come from different cryoDRGN runs,  they should be aligned and amplitude-scaled and stored in different directories (e.g. voldirs[0] contains +antibiotic volumes and voldirs[1] contains -antibiotic volumes). Below, provide the paths to the volume directories and the mask. "
   ]
  },
  {
   "cell_type": "code",
   "execution_count": null,
   "id": "7ab4c989-270e-4385-b152-26e80e22deab",
   "metadata": {},
   "outputs": [],
   "source": [
    "mask = '/path/to/mask' #CHANGE ME\n",
    "voldirs = ['/path/to/volume/directory1', '/path/to/volume/directory2']  #CHANGE ME\n",
    "keys = ['plus', 'minus'] #CHANGE ME\n",
    "outdir = '/path/to/desired/output/directory/' #CHANGE ME"
   ]
  },
  {
   "cell_type": "code",
   "execution_count": null,
   "id": "013ecf8a-4c59-40d5-bb83-23a1a801c2a8",
   "metadata": {},
   "outputs": [],
   "source": [
    "mask_data = pd.DataFrame(mrc.parse_mrc(mask)[0].flatten())\n",
    "coi = mask_data[mask_data[0] == 1].index"
   ]
  },
  {
   "cell_type": "code",
   "execution_count": null,
   "id": "d87d917d-7128-4874-97ac-2781b9dfefbf",
   "metadata": {},
   "outputs": [],
   "source": [
    "voldf1 = pd.DataFrame(columns = coi)\n",
    "voldf2 = pd.DataFrame(columns = coi)\n",
    "dfs_dict = {keys[0]: voldf1, keys[1]: voldf2}\n",
    "\n",
    "for i,j in enumerate(voldirs):\n",
    "    for file in os.listdir(j):\n",
    "        if 'vol' in file:\n",
    "            vol_name = file.split('.mrc')[-2] + f'_{keys[i]}'\n",
    "            data = mrc.parse_mrc(j + file)[0].flatten()\n",
    "            dfs_dict[keys[i]].loc[vol_name] = data[coi]\n",
    "\n",
    "allvols = pd.concat([dfs_dict[keys[0]], dfs_dict[keys[1]]])\n",
    "utils.save_pkl(allvols, outdir + 'allvols.pkl') "
   ]
  },
  {
   "cell_type": "code",
   "execution_count": null,
   "id": "432e7d2c-ec99-4449-8c76-a89c6b3326f4",
   "metadata": {},
   "outputs": [],
   "source": [
    "allvols"
   ]
  },
  {
   "cell_type": "markdown",
   "id": "fc2df449-9733-4a12-986c-31cdd102d7f2",
   "metadata": {},
   "source": [
    "#### Run PCA and visualize marginal distributions"
   ]
  },
  {
   "cell_type": "code",
   "execution_count": null,
   "id": "c0e66606-1680-4adc-9cfc-8688de0f0fea",
   "metadata": {},
   "outputs": [],
   "source": [
    "pca = PCA(random_state = 0, n_components = 10)\n",
    "pca.fit(allvols)\n",
    "pc = pca.transform(allvols)"
   ]
  },
  {
   "cell_type": "code",
   "execution_count": null,
   "id": "f22f9aa3-cdfd-4fbe-9943-0ab750245384",
   "metadata": {},
   "outputs": [],
   "source": [
    "plt.bar(np.arange(0, 10), pca.explained_variance_ratio_[0:10])\n",
    "plt.xlabel('Principal component')\n",
    "plt.ylabel('Explained variance')"
   ]
  },
  {
   "cell_type": "code",
   "execution_count": null,
   "id": "5aeb9f04-f346-4df1-93fa-a3ea18db53f8",
   "metadata": {},
   "outputs": [],
   "source": [
    "comp = 0 #CHANGE ME\n",
    "sns.kdeplot(pc[:len(dfs_dict[keys[0]]), comp], color = '#fc8d62', label = keys[0], alpha = 0.2, shade = True)\n",
    "sns.kdeplot(pc[len(dfs_dict[keys[0]]):, comp], color = '#8da0cb', label = keys[1], alpha = 0.2, shade = True)\n",
    "plt.legend(loc = 'upper right')\n",
    "plt.ylabel('Frequency')\n",
    "plt.xlabel(f'PC{comp+1}')"
   ]
  },
  {
   "cell_type": "markdown",
   "id": "72f41651-0be4-4e95-831a-24a4dc7f1144",
   "metadata": {},
   "source": [
    "#### Write ChimeraX scripts"
   ]
  },
  {
   "cell_type": "markdown",
   "id": "86bad55d-9233-4e16-8e33-14733ffec9eb",
   "metadata": {},
   "source": [
    "The following cells will write out .py files that can be opened in Chimera. The scripts will automatically open volumes sampled evenly across the selected principal component from the selected subset of data (either the first volume set or the second volume set). "
   ]
  },
  {
   "cell_type": "code",
   "execution_count": null,
   "id": "60f0d5a4-fcb2-48b6-9796-e6146cb02a79",
   "metadata": {},
   "outputs": [],
   "source": [
    "def find_nearest(array, value):\n",
    "    array = np.asarray(array)\n",
    "    idx = (np.abs(array - value)).argmin()\n",
    "    \n",
    "    return idx\n",
    "\n",
    "def find_pc_traj(pcs, dim, start = 5, stop = 95, num_vols = 20):\n",
    "    percentiles = np.linspace(start, stop, num_vols)\n",
    "    pc_percentiles = [np.percentile(pcs[:, dim], i) for i in percentiles]\n",
    "    inds = [find_nearest(pcs[:, dim], i) for i in pc_percentiles]\n",
    "    \n",
    "    return inds\n",
    "\n",
    "\n",
    "def write_traj_script(traj_list, output, subset):\n",
    "    if subset == 1:\n",
    "        traj_list = [i + len(dfs_dict[keys[0]]) for i in traj_list]\n",
    "    vols = allvols.index[traj_list]\n",
    "    \n",
    "    if len(vols) > 0:\n",
    "        with open(output, 'w') as f:\n",
    "            f.write('from chimerax.core.commands import run\\n')\n",
    "            for i in vols:\n",
    "                vol_num = i.split('_')[1]\n",
    "                for k,j in enumerate(dfs_dict):\n",
    "                    if j in i:\n",
    "                        f.write('run(session, \"open ' + voldirs[k] + 'vol_' + vol_num + '.mrc\")\\n')\n",
    "            \n",
    "    else:\n",
    "        print('No volumes match the specified PC criteria')\n",
    "            \n",
    "    return vols"
   ]
  },
  {
   "cell_type": "code",
   "execution_count": null,
   "id": "1afc04c3-07ca-44d6-aaab-bf522f517707",
   "metadata": {},
   "outputs": [],
   "source": [
    "comp = 0 #CHANGE ME\n",
    "chosen_subset = 1 #CHANGE ME\n",
    "subsets = [pc[:len(dfs_dict[keys[0]])], pc[len(dfs_dict[keys[1]]):]]\n",
    "pc_traj = find_pc_traj(subsets[chosen_subset], comp)\n",
    "write_traj_script(pc_traj, outdir + f'pc{str(comp)}_traversal_subset{str(chosen_subset)}.py', subset = chosen_subset)"
   ]
  },
  {
   "cell_type": "code",
   "execution_count": null,
   "id": "5fd98f5d-a6df-4471-ab3b-7279f453b157",
   "metadata": {},
   "outputs": [],
   "source": []
  }
 ],
 "metadata": {
  "kernelspec": {
   "display_name": "Python 3 (ipykernel)",
   "language": "python",
   "name": "python3"
  },
  "language_info": {
   "codemirror_mode": {
    "name": "ipython",
    "version": 3
   },
   "file_extension": ".py",
   "mimetype": "text/x-python",
   "name": "python",
   "nbconvert_exporter": "python",
   "pygments_lexer": "ipython3",
   "version": "3.9.12"
  }
 },
 "nbformat": 4,
 "nbformat_minor": 5
}
